{
 "cells": [
  {
   "cell_type": "markdown",
   "metadata": {},
   "source": [
    "# Topographic Factor Analysis \n",
    "\n",
    "This notebook is an implementation of Topographic Factor Analysis: A Bayesian Model for\n",
    "Inferring Brain Networks from Neural Data ( Jeremy R. Manning, Rajesh Ranganath, Kenneth A. Norman, David M. Blei) using Autoencoders. The paper applies Stochastic Variatonal Inference to a Spatial factor analysis model; particularly in understanding contribution of different spatial areas of the brain to a particular activity, based on fMRI scans"
   ]
  },
  {
   "cell_type": "markdown",
   "metadata": {
    "collapsed": true
   },
   "source": [
    "\"\"\"\n",
    "Antonio Moretti - August 2017\n",
    "\n",
    "Test stochastic variational inference for a simple spatial factor analysis\n",
    "model on a (d = 2) dimensional lattice. Algorithm is described in the paper:\n",
    "    \n",
    "    Topographic Factor Analysis by Manning and Ranganath\n",
    "    https://www.cs.princeton.edu/~rajeshr/papers/MannEtal13b.pdf\n",
    "    \n",
    "although this is used as illustration - the technique can be used to fit novel\n",
    "spatial statistics models.\n",
    "\n",
    "In order to compute the cost, we must:\n",
    "    \n",
    "    (1) Define how to draw a sample from the variational approximation (recognition model).\n",
    "    \n",
    "            q ~ q(w,m,l|alpha)\n",
    "            \n",
    "    (2) Compute the log of the variational distribution. We avoid analytically evaluating\n",
    "        the entropy by using a technique detailed in Black Box Variational Inverence by Ranganath.\n",
    "        This lets us express our cost gradient by evaluating the scores [ differentiating only ln q() ].\n",
    "        \n",
    "            ln q(w,m,l|alpha) = ln q(w) + ln q(m) + ln q(l)\n",
    "            \n",
    "        In both VI methods described in Black Box Variational Inference and the Stochastic\n",
    "        Gradient Variational Bayes method, we need to compute the log of the recognition model.\n",
    "\n",
    "    (3) Using the sample q ~ q(w,m,l|alpha), define how to evaluate the log \n",
    "        probability of the prior (the generative model). Given a sample from the set \n",
    "        S = {X, Y}, we compute P(Y,X) = P(Y|X)P(X) which is defined more formally:\n",
    "        \n",
    "            ln p(y, w, m, l) = ln p(y|q,m,l) + ln p(w) + ln p(m) + ln p(l)\n",
    "        \n",
    "        Note that we must be clever here in how we evaluate ln p(y) which requires\n",
    "        the specification of the source image matrix F.\n",
    "        \n",
    "            ln p(y|w,m,l) = N(y | W * F, sigma^2)\n",
    "            \n",
    "    (4) TODO: support several kernels that can be used to build F from spatial functions. We\n",
    "        define a subroutine to compute the source image matrix from M and L (sampled from q)\n",
    "        using RBFs, which can easily extend to ellipsoids and Matern covariance functions.\n",
    "        These can be defined isotropic or with correlations although this affects sampling q\n",
    "        and the cost.\n",
    "        \n",
    "        WARNING:\n",
    "        ** poor hyperparameters can cause F to take values too large, or result in numerical issues... \n",
    "        \n",
    "        TODO: define the Matern kernel in R^n using Bessel function Jn\n",
    "        \n",
    "    (5) Compute the scores [ the gradient of each term in ln q(W,M,L) wrt recognition hyperparameters].\n",
    "        Note that the gradient of the sum of univariate log Gaussians is the sum of the gradient of ln Normal.\n",
    "        \n",
    "    (6) We can now define the cost ( TheCost = E[ln P(Y,W,M,L)] + H[Q] ) and it's gradient:\n",
    "            \n",
    "            \\Nabla theCost = theScores * (lnLikelihood - lnQ)\n",
    "                           = [ \\Nabla ln q(w,m,l|alpha) ] * [ ln p(y,w,m,l) - ln q(w,m,l|alpha) ]\n",
    "        \n",
    "\"\"\""
   ]
  },
  {
   "cell_type": "code",
   "execution_count": 13,
   "metadata": {
    "collapsed": true
   },
   "outputs": [],
   "source": [
    "# Importing packages\n",
    "\n",
    "import numpy as np\n",
    "import scipy as sp\n",
    "from scipy.stats import norm\n",
    "%matplotlib inline"
   ]
  },
  {
   "cell_type": "markdown",
   "metadata": {},
   "source": [
    "Setting the parameters first: these include basic variables like Number of sources of the Spatial Model, dimensions, etc."
   ]
  },
  {
   "cell_type": "code",
   "execution_count": 14,
   "metadata": {
    "collapsed": true
   },
   "outputs": [],
   "source": [
    "# define some basic parameters\n",
    "K = 5                       # number of sources\n",
    "D = 2                       # dimension of space in which lattice lives\n",
    "N = 10                      # number of scans\n",
    "lattice_shape = 50          # dimension of lattice\n",
    "V = lattice_shape**D        # define lattice_shape x lattice_shape in R^D\n",
    "\n",
    "c = 25          # center of brain image, computed from dataset\n",
    "var_mu = 5000     # contains the variances across voxel coordinates along each dimension"
   ]
  },
  {
   "cell_type": "markdown",
   "metadata": {},
   "source": [
    "Setting different hyperparameter values for the generative model to a dictionary. Generative model represented by theta."
   ]
  },
  {
   "cell_type": "code",
   "execution_count": 15,
   "metadata": {
    "collapsed": true
   },
   "outputs": [],
   "source": [
    "# define dictionary of hyperparameters for generative model (theta)\n",
    "pi = {\n",
    "      'sigma_sq_y' : 0.1,                    # voxel noise parameter\n",
    "      'mu_w'       : 0.0,                    # mean of source weight distribution\n",
    "      'k_w'        : np.log(0.5),            # log precision of source weight distribution\n",
    "      'c'          : c,                      # mean of distribution over source centers\n",
    "      'k_mu'       : np.log(1./(10*var_mu)), # diagonal of log precision of source center distribution\n",
    "      'mu_lambda'  : 50.0, # 1.0  50?        # mean of distribution over source widths\n",
    "      'k_lambda'   : np.log(1./3.)           # log precision of distribution over source widths\n",
    "     }"
   ]
  },
  {
   "cell_type": "markdown",
   "metadata": {},
   "source": [
    "Setting different hyperparameter values for the recognition model to a dictionary. Recognition model represented by phi. Variable name used alpha"
   ]
  },
  {
   "cell_type": "code",
   "execution_count": 16,
   "metadata": {
    "collapsed": true
   },
   "outputs": [],
   "source": [
    "# define dictionary of hyperparameters for recognition model (phi)\n",
    "# note that the means here (_mu_w_nk, _mu_mu_k, and _mu_lambda_k - the mean of distribution over weights\n",
    "# centers and widths can be randomly initialized or chosen through hotspot initialization described in 1.4.1)\n",
    "# they are randomly initialized / arbitrariliy set to 2.0 here.\n",
    "alpha = {\n",
    "        '_mu_w_nk'      : 1.0,                  # mean of distribution over source k's weight in image n \n",
    "        '_k_w_nk'       : np.log(10),           # log precision of distribution over source k's weight in image n\n",
    "        '_mu_mu_k'      : 25.0,                 # mean of distribution over source k's center\n",
    "        '_k_mu_k'       : np.log(100./var_mu),  # diagional of log precision of distribution over source k's center\n",
    "        '_mu_lambda_k'  : 50.,                  # mean of distribution over source k's width\n",
    "        '_k_lambda_k'   : 0.5                   # log precision of distribution over source k's width\n",
    "        }"
   ]
  },
  {
   "cell_type": "markdown",
   "metadata": {},
   "source": [
    "Method for sampling from the recognition model - since the distribution **q(W,M, $lambda$ | $alpha$)** fully factorizes, each variable is drawn independently. So for every source, we pick a source center, a source width and a source weight from a Normal distribution"
   ]
  },
  {
   "cell_type": "code",
   "execution_count": 17,
   "metadata": {
    "collapsed": true
   },
   "outputs": [],
   "source": [
    "def getSample(alpha, K, D, N):\n",
    "    \"\"\"\n",
    "    Draws one sample from the variational approximation (aka the recognition model) q ~ q(w,m,lambda|alpha).\n",
    "    Yields one value for each of the hidden variables, including per-image source weights, source centers\n",
    "    and source widths. Each variable is drawn independently b/c q(w,m,lambda) fully factorizes.\n",
    "    --------------------------------------------------------------------------------------------------------\n",
    "    Input: \n",
    "            * alpha : dictionary of hyperparameters\n",
    "            * K     : number of sources\n",
    "            * D     : dimension of space in which the lattice lives\n",
    "            * N     : number of scans\n",
    "    \n",
    "    Output:\n",
    "            * M     : source centers (on the lattice) for each of the k sources\n",
    "            * W     : weights for the k sources in the n scans (factor loading matrix)\n",
    "            * L     : source widths for each of the k sources\n",
    "    \"\"\"\n",
    "    M = np.zeros([K,D])\n",
    "    L = np.zeros(K)\n",
    "    W = np.zeros([N,K])\n",
    "    \n",
    "    for k in range(K):\n",
    "    \n",
    "        # Sample source center m ~ q(m)\n",
    "        M[k,:] = np.random.multivariate_normal(np.ones(D)* alpha['_mu_mu_k'], np.eye(D)*np.exp((1./alpha['_k_mu_k'])))\n",
    "        \n",
    "        # Sample source width  l ~ q(l)\n",
    "        L[k]   = np.random.normal(alpha['_mu_lambda_k'], np.exp(1.0/alpha['_k_lambda_k'])) ## <- should not be negative!\n",
    "        \n",
    "        # Sample weights       w ~ q(w)\n",
    "        W[:,k] = np.random.multivariate_normal(np.ones(N)*alpha['_mu_w_nk'], np.eye(N)*np.exp(1.0/alpha['_k_w_nk']))\n",
    "        \n",
    "    q = M, L, W\n",
    "    \n",
    "    return q"
   ]
  },
  {
   "cell_type": "markdown",
   "metadata": {},
   "source": [
    "# Algorithm to Compute cost\n",
    "\n",
    "## 1. Sampling from the recognition model\n",
    "We first sample from the variation approximation (recognition model)"
   ]
  },
  {
   "cell_type": "code",
   "execution_count": 18,
   "metadata": {
    "collapsed": true
   },
   "outputs": [],
   "source": [
    "# draw a sample from the approximate posterior\n",
    "q = getSample(alpha, K, D, N)"
   ]
  },
  {
   "cell_type": "markdown",
   "metadata": {},
   "source": [
    "## 2. Computing log of the variational distribution\n",
    "Next we compute the log of the variational distribution using the technique detailed in Black Box Variational Inverence by Ranganath. **make_mvn_pdf** and **compute_lnQ** are methods that define a Multivariate Gaussian Density and compute the log of the variational distribution using these densities respectively"
   ]
  },
  {
   "cell_type": "code",
   "execution_count": 19,
   "metadata": {
    "collapsed": true
   },
   "outputs": [],
   "source": [
    "def make_mvn_pdf(mu, sigma):\n",
    "    \"\"\"\n",
    "    Defines a multivariate Gaussian density. This is useful when computing ln p(y,w,m,l) and ln q(w,m,l).\n",
    "    \"\"\"\n",
    "    def f(x):\n",
    "        return sp.stats.multivariate_normal.pdf(x, mu, sigma)\n",
    "    \n",
    "    return f\n",
    "\n",
    "\n",
    "def compute_lnQ(alpha, q, K, D, N):\n",
    "    \"\"\"\n",
    "    Computes the log of the variational distribution given by the following.\n",
    "        ln q(W,M,L|alpha) = ln q(weights) + ln q(centers) + ln q(widths)\n",
    "    \"\"\"\n",
    "    # Unpack values of our hidden variables sampled from q ~ q(w,m,lambda)\n",
    "    M, L, W = q[0], q[1], q[2]\n",
    "    # Define seperate terms for each of the log probabilities above.\n",
    "    T1 = T2 = T3 = 0\n",
    "\n",
    "    # T1 = \\prod_n \\prod_k ln q(w)\n",
    "    q_w = make_mvn_pdf(np.ones(N)*alpha['_mu_w_nk'], np.eye(N)*np.exp(1.0/alpha['_k_w_nk']))\n",
    "    # T2 = ln \\prod_k \\prod_d q(m)\n",
    "    q_m = make_mvn_pdf(np.ones(D)* alpha['_mu_mu_k'], np.eye(D)*np.exp((1./alpha['_k_mu_k'])))\n",
    "    # T3 = ln \\prod_k q(l)\n",
    "    q_l = make_mvn_pdf(alpha['_mu_lambda_k'], np.exp(1.0/alpha['_k_lambda_k'])) ## <- should not be negative!\n",
    "    \n",
    "    # TODO : can define this summation a bit more efficiently...\n",
    "    # If independent, joint is product of marginals p(M) = p(m1)p(m2)p(m_n)\n",
    "    for m in M:\n",
    "        \n",
    "        T2 += np.log(q_m(m))\n",
    "    \n",
    "    for w in W.T:\n",
    "        \n",
    "        T1 += np.log(q_w(w))\n",
    "    \n",
    "    for l in L:\n",
    "        \n",
    "        T3 += np.log(q_l(l))\n",
    "        \n",
    "    \n",
    "    Lik = T1 + T2 + T3\n",
    "    \n",
    "    return Lik   "
   ]
  },
  {
   "cell_type": "markdown",
   "metadata": {},
   "source": [
    "Evaluating log of variational distribution and storing it in **prob_q**"
   ]
  },
  {
   "cell_type": "code",
   "execution_count": 20,
   "metadata": {
    "collapsed": true
   },
   "outputs": [],
   "source": [
    "# evaluate lnQ\n",
    "prob_q = compute_lnQ(alpha, q, K, D, N)"
   ]
  },
  {
   "cell_type": "markdown",
   "metadata": {},
   "source": [
    "## 3. Computing log p(Y, W, M, Λ)\n",
    "Next, we compute the log probability of the prior (the generative model) using sample q.\n",
    "\n",
    "**ln p(y, w, m, l) = ln p(y|q,m,l) + ln p(w) + ln p(m) + ln p(l)**\n",
    "\n",
    "This consists of a few steps. First we compute a source image matrix using a sample from the recognition model"
   ]
  },
  {
   "cell_type": "code",
   "execution_count": 21,
   "metadata": {
    "collapsed": true
   },
   "outputs": [],
   "source": [
    "def sourceImageMatrix(q,V, lattice_shape, kernel='RBF'):\n",
    "    \"\"\"\n",
    "    Computes the source image matrix using a sample from the recognition model\n",
    "    --------------------------------------------------------------------------\n",
    "    Input:\n",
    "            * q : q ~ q(w,m,lambda) sample from the recognition model\n",
    "            * V : the number of voxels (lattice points flattened to a vector)\n",
    "    Output:\n",
    "            * F : [K x V] source image matrix constructed from mu, lambda\n",
    "            **            the kernel to use    (rbf, exponential, matern)\n",
    "    \"\"\"\n",
    "    # Grab centers and widths from our sample q (works regardless of shape)\n",
    "    M, L = q[0], q[1]\n",
    "    # Define the number of sources and the dimension of space lattice lives in\n",
    "    K, D = q[0].shape\n",
    "    # Initialize the source image matrix keeping lattice flattened to vector\n",
    "    F = np.zeros([K,V])\n",
    "    \n",
    "    # Build components of source image matrix (big matrix likely inefficient...)\n",
    "    # TODO: smarter way of computing F...\n",
    "    for k in range(K):\n",
    "        for v in range(V):\n",
    "            \n",
    "            # Here we call an external spatial function (TODO: pass this in...)\n",
    "            loc = np.array(divmod(v,lattice_shape)) - 1 # array index starts at 0\n",
    "            if kernel == 'RBF':\n",
    "                F[k,v] = np.exp(- (1./L[k]) * np.dot((M[k] - loc),(M[k] - loc)))\n",
    "            if kernel == 'exponential':\n",
    "                F[k,v] = np.exp(- (1./L[k]) * np.sqrt(np.dot((M[k] - loc),(M[k] - loc))))\n",
    "            \n",
    "    return F\n",
    "    \n",
    "myF = sourceImageMatrix(q,V,lattice_shape, kernel = 'RBF')"
   ]
  },
  {
   "cell_type": "markdown",
   "metadata": {},
   "source": [
    "At this point, the source Image matrix as estimated from the recognition model is ready. We can see how it looks like:"
   ]
  },
  {
   "cell_type": "code",
   "execution_count": 22,
   "metadata": {
    "collapsed": false
   },
   "outputs": [
    {
     "name": "stdout",
     "output_type": "stream",
     "text": [
      "\n",
      "inspecting the source image matrix:\n",
      "\n"
     ]
    },
    {
     "data": {
      "text/plain": [
       "<matplotlib.figure.Figure at 0xa0abcf8>"
      ]
     },
     "metadata": {},
     "output_type": "display_data"
    },
    {
     "data": {
      "image/png": "[encoded data removed]",
      "text/plain": [
       "<matplotlib.figure.Figure at 0x9e5a278>"
      ]
     },
     "metadata": {},
     "output_type": "display_data"
    }
   ],
   "source": [
    "# quickly inspect source image matrix F\n",
    "import matplotlib.pyplot as plt\n",
    "%matplotlib inline\n",
    "\n",
    "plt.figure()\n",
    "\n",
    "print \"\\ninspecting the source image matrix:\\n\"\n",
    "\n",
    "fig,axs = plt.subplots(1,K, figsize = (10,10))\n",
    "fig.subplots_adjust(hspace = 1.5, wspace=.25)\n",
    "for k in range(K):\n",
    "    axs[k].imshow(myF[k,:].reshape(lattice_shape, lattice_shape))\n",
    "    \n",
    "plt.show()"
   ]
  },
  {
   "cell_type": "markdown",
   "metadata": {},
   "source": [
    "Next we define the method that calculates the log probability of the Generative model using the formula mentioned above"
   ]
  },
  {
   "cell_type": "code",
   "execution_count": 23,
   "metadata": {
    "collapsed": true
   },
   "outputs": [],
   "source": [
    "def evaluate_logDensity(Y, phi, q, K, D, N,V,lattice_shape):\n",
    "    \"\"\"\n",
    "    Computes the log probability of the Generative Model evaluated at a sample\n",
    "    drawn from the Recognition Model. Given a sample from the set \n",
    "    S = {X, Y}, we compute P(Y,X) = P(Y|X)P(X) which is defined more formally:\n",
    "        \n",
    "        ln p(y, w, m, l | alpha) = ln p(y) + ln p(w) + ln p(m) + ln p(l)\n",
    "    \n",
    "    Note that one must be clever about how to compute the source image matrix.\n",
    "    On a 3 dimensional lattice we wish to avoid evaluation quartic in the input size.\n",
    "    ---------------------------------------------------------------------------\n",
    "    Input:\n",
    "            * phi           : dictionary of recognition model hyperparameters\n",
    "            * K             : number of sources\n",
    "            * D             : dimension of space in which the lattice lives\n",
    "            * N             : number of scans\n",
    "            \n",
    "    Output:\n",
    "            * ln p(y,w,m,l) : numerical value for the log probability of the\n",
    "                              generative model using hidden variables sampled\n",
    "                              from the recognition model q.\n",
    "    \"\"\"\n",
    "    # Unpack values of our hidden variables sampled from q ~ q(w,m,lambda)\n",
    "    M, L, W = q[0], q[1], q[2]\n",
    "    \n",
    "    T0 = T1 = T2 = T3 = 0\n",
    "    \n",
    "    # -------------------------------------------------------------------------\n",
    "    # compute ln p(y) = N(y | W * F, sigma^2) and evaluate source image matrix\n",
    "    F       = sourceImageMatrix(q,V,lattice_shape)\n",
    "    y_bar   = np.dot(W,F) \n",
    "\n",
    "    # T1 = \\prod_n \\prod_k ln q(w)\n",
    "    q_w = make_mvn_pdf(np.ones(N)*phi['mu_w'], np.eye(N)*np.exp(1.0/phi['k_w']))\n",
    "    # T2 = ln \\prod_k \\prod_d q(m)\n",
    "    q_m = make_mvn_pdf(np.ones(D)* phi['c'], np.eye(D)*np.exp((1./phi['k_mu'])))\n",
    "    # T3 = ln \\prod_k q(l)\n",
    "    q_l = make_mvn_pdf(phi['mu_lambda'], np.exp(1.0/phi['k_lambda']))\n",
    "    \n",
    "    import pdb\n",
    "    # T0 = \\prod_n \\prod_v ln p(y|w,m,lambda)\n",
    "    '''\n",
    "    for n in range(N):\n",
    "        import pdb\n",
    "        pdb.set_trace()\n",
    "        q_y = make_mvn_pdf(y_bar[n,:], phi['sigma_sq_y']*np.eye(lattice_shape*lattice_shape))\n",
    "        T0 += np.log(q_y(Y[n,:]))\n",
    "    '''\n",
    "    for n in range(N):\n",
    "        for v in range(V):\n",
    "            #pdb.set_trace()\n",
    "            q_y = make_mvn_pdf(y_bar[n,v],phi['sigma_sq_y'])\n",
    "            T0 += np.log(q_y(Y[n,v]))\n",
    "    \n",
    "    # TODO : can define this summation a bit more efficiently...\n",
    "    # If independent, joint is product of marginals p(M) = p(m1)p(m2)p(m_n)\n",
    "    for m in M:\n",
    "        \n",
    "        T2 += np.log(q_m(m))\n",
    "    \n",
    "    for w in W.T:\n",
    "        \n",
    "        T1 += np.log(q_w(w))\n",
    "    \n",
    "    for l in L:\n",
    "        #pdb.set_trace()\n",
    "        T3 += np.log(q_l(l))\n",
    "        \n",
    "    \n",
    "    return [T0 + T1 + T2 + T3, T0, T1, T2, T3]"
   ]
  },
  {
   "cell_type": "code",
   "execution_count": 24,
   "metadata": {
    "collapsed": true
   },
   "outputs": [],
   "source": [
    "y_bar = np.dot(q[2],myF)"
   ]
  },
  {
   "cell_type": "code",
   "execution_count": 25,
   "metadata": {
    "collapsed": false
   },
   "outputs": [
    {
     "name": "stdout",
     "output_type": "stream",
     "text": [
      "\n",
      "weighted source image matrices for each scan:\n",
      "\n"
     ]
    },
    {
     "data": {
      "text/plain": [
       "<matplotlib.figure.Figure at 0xaecb518>"
      ]
     },
     "metadata": {},
     "output_type": "display_data"
    },
    {
     "data": {
      "image/png": "[encoded data removed]",
      "text/plain": [
       "<matplotlib.figure.Figure at 0xafa2550>"
      ]
     },
     "metadata": {},
     "output_type": "display_data"
    }
   ],
   "source": [
    "plt.figure()\n",
    "\n",
    "print \"\\nweighted source image matrices for each scan:\\n\"\n",
    "\n",
    "fig,axs = plt.subplots(2,K, figsize = (10,5))\n",
    "fig.subplots_adjust(hspace = .25, wspace=.25)\n",
    "axs = axs.ravel()\n",
    "\n",
    "for n in range(N):\n",
    "    axs[n].imshow(y_bar[n,:].reshape(lattice_shape, lattice_shape))\n",
    "    \n",
    "plt.show()"
   ]
  },
  {
   "cell_type": "markdown",
   "metadata": {},
   "source": [
    "Finally calculating the log probability of the Generative model"
   ]
  },
  {
   "cell_type": "code",
   "execution_count": 26,
   "metadata": {
    "collapsed": false
   },
   "outputs": [
    {
     "name": "stdout",
     "output_type": "stream",
     "text": [
      "\n",
      "log probability of generative model:\n",
      "\n",
      "\n",
      "[-95234.800552360379, -94561.661739703006, -276.7410681449868, -11.522583651492509, -384.8751608608992] \n",
      "\n"
     ]
    }
   ],
   "source": [
    "# draw a sample from the approximate posterior\n",
    "q = getSample(alpha, K, D, N)\n",
    "\n",
    "print \"\\nlog probability of generative model:\\n\"\n",
    "p_joint = evaluate_logDensity(y_bar, pi, q, K, D, N,V,lattice_shape)\n",
    "print \"\\n\", p_joint, \"\\n\""
   ]
  },
  {
   "cell_type": "code",
   "execution_count": 27,
   "metadata": {
    "collapsed": false
   },
   "outputs": [
    {
     "name": "stdout",
     "output_type": "stream",
     "text": [
      "scores evaluated:\n",
      "\n",
      "[1.4197517747465107, -1.0559890694799066, -1.4662433347780366, -0.33246654113278229, 0.40248589637287446, -0.098494690020537345]\n"
     ]
    }
   ],
   "source": [
    "def compute_scoresQ(alpha, q, ind_n, ind_k, ind_d):\n",
    "    \"\"\"\n",
    "    Evaluates the scores (gradient of the log probability) for Q(M,W,L) our\n",
    "    recognition model. We define functions to compute derivatives of univariate\n",
    "    log Gaussian. These are then used in turn to compute gradients wrt all the\n",
    "    variational parameters in alpha.\n",
    "    ---------------------------------------------------------------------------\n",
    "    Input:\n",
    "            * alpha : Variational parameters of the recognition model\n",
    "            * q     : Samples of M, W, L from the recognition model\n",
    "            * ind   : indices for n, k, d\n",
    "    Output:\n",
    "            * grad  : Gradients of weights, centers and widths wrt the variational\n",
    "                      parameters of the recognition model.\n",
    "    \"\"\"\n",
    "\n",
    "    M, L, W = q[0], q[1], q[2]\n",
    "    \n",
    "    def z1(s,mu,var):\n",
    "        # evaluates the score for the mean of a log univariate gaussian\n",
    "        return (s-mu)/var\n",
    "    \n",
    "    def z2(s,mu,var):\n",
    "        # evaluates the score for the variance of a log univariate gaussian\n",
    "        return 0.5 - 0.5*(1./var)*(s-mu)**2\n",
    "    \n",
    "    # gradients of weights wrt mu and k\n",
    "    grad_mu_w_nk     = z1(W[ind_n,ind_k], alpha['_mu_w_nk'],np.exp(1.0/alpha['_k_w_nk']))\n",
    "    grad_k_w_nk      = z2(W[ind_n,ind_k], alpha['_mu_w_nk'],np.exp(1.0/alpha['_k_w_nk']))\n",
    "    \n",
    "    # gradients of centers wrt mu and k\n",
    "    grad_mu_mu_kd    = z1(M[ind_k,ind_d], alpha['_mu_mu_k'], np.exp((1./alpha['_k_mu_k'])))\n",
    "    grad_k_mu_kd     = z2(M[ind_k,ind_d], alpha['_mu_mu_k'], np.exp((1./alpha['_k_mu_k'])))\n",
    "    \n",
    "    # gradients of widths wrt mu and k\n",
    "    grad_mu_lambda_k = z1(L[ind_k], alpha['_mu_lambda_k'], np.exp(1.0/alpha['_k_lambda_k'])) # <- cannot be negative!\n",
    "    grad_k_lambda_k  = z2(L[ind_k], alpha['_mu_lambda_k'], np.exp(1.0/alpha['_k_lambda_k'])) # <- cannot be negative!\n",
    "    \n",
    "    grad = [grad_mu_w_nk, grad_k_w_nk, grad_mu_mu_kd, grad_k_mu_kd, grad_mu_lambda_k, grad_k_lambda_k]\n",
    "    \n",
    "    return grad\n",
    "\n",
    "scores = compute_scoresQ(alpha, q, 5, 2, 1)\n",
    "print \"scores evaluated:\\n\\n\", scores"
   ]
  },
  {
   "cell_type": "code",
   "execution_count": 28,
   "metadata": {
    "collapsed": false
   },
   "outputs": [
    {
     "name": "stdout",
     "output_type": "stream",
     "text": [
      "ALL scores evaluated w/ new function:\n",
      "\n",
      "[4.1233241807923502, 4.4731615032177094, -3.3677864169595582, 1.709157260936105, 1.9830444873339974, -18.335036033852223]\n"
     ]
    }
   ],
   "source": [
    "def compute_scoresQ_all(alpha, q, N, K, D):\n",
    "    \"\"\"\n",
    "    Evaluates the scores (gradient of the log probability) for Q(M,W,L) our\n",
    "    recognition model. We define functions to compute derivatives of univariate\n",
    "    log Gaussian. These are then used in turn to compute gradients wrt all the\n",
    "    variational parameters in alpha.\n",
    "    ---------------------------------------------------------------------------\n",
    "    Input:\n",
    "            * alpha : Variational parameters of the recognition model\n",
    "            * q     : Samples of M, W, L from the recognition model\n",
    "            * ind   : indices for n, k, d\n",
    "    Output:\n",
    "            * grad  : Gradients of weights, centers and widths wrt the variational\n",
    "                      parameters of the recognition model.\n",
    "    \"\"\"\n",
    "\n",
    "    M, L, W = q[0], q[1], q[2]\n",
    "    \n",
    "    def z1(s,mu,var):\n",
    "        # evaluates the score for the mean of a log univariate gaussian\n",
    "        return (s-mu)/var\n",
    "    \n",
    "    def z2(s,mu,var):\n",
    "        # evaluates the score for the variance of a log univariate gaussian\n",
    "        return 0.5 - 0.5*(1./var)*(s-mu)**2\n",
    "    \n",
    "    # gradients of weights wrt mu and k\n",
    "    grad_mu_w_nk = 0.\n",
    "    grad_k_w_nk  = 0.\n",
    "    \n",
    "    for ind_n in range(N):\n",
    "        for ind_k in range(K):\n",
    "            \n",
    "            grad_mu_w_nk     += z1(W[ind_n,ind_k], alpha['_mu_w_nk'],np.exp(1.0/alpha['_k_w_nk']))\n",
    "            grad_k_w_nk      += z2(W[ind_n,ind_k], alpha['_mu_w_nk'],np.exp(1.0/alpha['_k_w_nk']))\n",
    "    \n",
    "    # gradients of centers wrt mu and k\n",
    "    grad_mu_mu_kd = 0.\n",
    "    grad_k_mu_kd  = 0.\n",
    "    \n",
    "    # gradients of widths wrt mu and k\n",
    "    grad_mu_lambda_k = 0.\n",
    "    grad_k_lambda_k  = 0.\n",
    "    \n",
    "    # gradients of centers wrt mu and k\n",
    "    for ind_k in range(K):\n",
    "        for ind_d in range(D):\n",
    "            grad_mu_mu_kd    += z1(M[ind_k,ind_d], alpha['_mu_mu_k'], np.exp((1./alpha['_k_mu_k'])))\n",
    "            grad_k_mu_kd     += z2(M[ind_k,ind_d], alpha['_mu_mu_k'], np.exp((1./alpha['_k_mu_k'])))\n",
    "    \n",
    "\n",
    "    \n",
    "        grad_mu_lambda_k += z1(L[ind_k], alpha['_mu_lambda_k'], np.exp(1.0/alpha['_k_lambda_k'])) # <- cannot be negative!\n",
    "        grad_k_lambda_k  += z2(L[ind_k], alpha['_mu_lambda_k'], np.exp(1.0/alpha['_k_lambda_k'])) # <- cannot be negative!\n",
    "    \n",
    "    grad = [grad_mu_w_nk, grad_k_w_nk, grad_mu_mu_kd, grad_k_mu_kd, grad_mu_lambda_k, grad_k_lambda_k]\n",
    "    \n",
    "    return grad\n",
    "\n",
    "\n",
    "scores = compute_scoresQ_all(alpha, q, N, K, D)\n",
    "print \"ALL scores evaluated w/ new function:\\n\\n\", scores"
   ]
  },
  {
   "cell_type": "code",
   "execution_count": 29,
   "metadata": {
    "collapsed": false
   },
   "outputs": [
    {
     "name": "stdout",
     "output_type": "stream",
     "text": [
      "Testing the VI optimizer\n",
      "iter: 0\n",
      "alpha_i: _k_mu_k\n",
      "the cost: [ -438896.87220402   554551.15171428  -360813.3068749   -383430.55852729\n",
      "    49129.95128021  2671024.34602392]\n",
      "alpha_i: _mu_mu_k\n",
      "the cost: [ -438896.28674805   554550.41198405  -342516.29216561  -395236.54699285\n",
      "    49129.88574449  2671020.78307497]\n",
      "alpha_i: _mu_lambda_k\n",
      "the cost: [ -438884.35772455   554535.33952821  1168251.51881667    17646.46342925\n",
      "    49128.55041407  2670948.18581072]\n",
      "alpha_i: _k_lambda_k\n",
      "the cost: [ -438881.73344875   554532.02372612  1168244.53334513    17646.35791355\n",
      "   132526.88430171  2761759.78555585]\n",
      "alpha_i: _mu_w_nk\n",
      "the cost: [  -438645.81113356    554233.9332181    1167616.53966482\n",
      "     17636.87205598    502492.7242657   11331885.61709155]\n",
      "alpha_i: _k_w_nk\n",
      "the cost: [  3550344.76853379   2110049.06726353   1167496.80223145\n",
      "     17635.06341957    502441.1943438   11330723.54816486]\n",
      "iter: 1\n",
      "alpha_i: _k_mu_k\n",
      "the cost: [-633913.83027094  815760.1941943   359458.68901611 -116132.93594012\n",
      "  -91168.25527514  337101.98454421]\n",
      "alpha_i: _mu_mu_k\n",
      "the cost: [-633913.83027079  815760.1941941   359458.68411335 -116132.93995489\n",
      "  -91168.25527511  337101.98454413]\n",
      "alpha_i: _mu_lambda_k\n",
      "the cost: [-633913.83026182  815760.19418256  359458.9510588  -116132.84460129\n",
      "  -91168.25527382  337101.98453936]\n",
      "alpha_i: _k_lambda_k\n",
      "the cost: [-633913.83026204  815760.19418285  359458.95105893 -116132.84460133\n",
      "  -91168.24972309  337101.98213833]\n",
      "alpha_i: _mu_w_nk\n",
      "the cost: [-633913.83078756  815760.19485912  359458.95135692 -116132.84469761\n",
      "  -91166.73862912  337092.99265954]\n",
      "alpha_i: _k_w_nk\n",
      "the cost: [-633913.94027713  815760.21774432  359458.9513557  -116132.84469721\n",
      "  -91166.73862881  337092.99265839]\n"
     ]
    }
   ],
   "source": [
    "def compute_mvn_scoresQ(alpha, q, K, D, N, V):\n",
    "    \"\"\"\n",
    "    TODO: Extend the above to multivariate Gaussian score functions...\n",
    "    \"\"\"\n",
    "    \n",
    "    def z1(s, mu, sigma):\n",
    "        ''' evaluates the score for the mean of a log mvn '''\n",
    "        invcov = np.pinv(sigma)\n",
    "        return np.dot(invcov,(s-mu))\n",
    "    \n",
    "    def z2(s, mu, sigma):\n",
    "        ''' evaluates the score for the covariance of a log mvn '''\n",
    "        invcov = np.pinv(sigma)\n",
    "        return -0.5*(invcov - np.dot(invcov,np.dot(np.dot((s-mu),(s-mu)),invcov)))\n",
    "\n",
    "    # gradients of weights wrt mu and k\n",
    "    grad_mu_w_nk     = z1(W[ind_n,ind_k], alpha['_mu_w_nk'],np.exp(1.0/alpha['_k_w_nk']))\n",
    "    grad_k_w_nk      = z2(W[ind_n,ind_k], alpha['_mu_w_nk'],np.exp(1.0/alpha['_k_w_nk']))\n",
    "    # gradients of centers wrt mu and k\n",
    "    grad_mu_mu_kd    = z1(M[ind_k,ind_d], alpha['_mu_mu_k'], np.exp((1./alpha['_k_mu_k'])))\n",
    "    grad_k_mu_kd     = z2(M[ind_k,ind_d], alpha['_mu_mu_k'], np.exp((1./alpha['_k_mu_k'])))\n",
    "    # gradients of widths wrt mu and k\n",
    "    grad_mu_lambda_k = z1(L[ind_k], alpha['_mu_lambda_k'], np.exp(1.0/alpha['_k_lambda_k'])) # <- cannot be negative!\n",
    "    grad_k_lambda_k  = z2(L[ind_k], alpha['_mu_lambda_k'], np.exp(1.0/alpha['_k_lambda_k'])) # <- cannot be negative!\n",
    "    \n",
    "    \n",
    "    grad = [grad_mu_w_nk, grad_k_w_nk, grad_mu_mu_kd, grad_k_mu_kd, grad_mu_lambda_k, grad_k_lambda_k]\n",
    "    \n",
    "    return grad\n",
    "    \n",
    "\n",
    "def initializeParameters(Y, pi):\n",
    "    \n",
    "    N = Y.shape[0]\n",
    "    V = Y.shape[1]\n",
    "    alpha = {\n",
    "        '_mu_w_nk'      : np.random.normal(0,1),            # mean of distribution over source k's weight in image n \n",
    "        '_k_w_nk'       : np.log(10),                       # log precision of distribution over source k's weight in image n\n",
    "        '_mu_mu_k'      : pi['c'],                          # mean of distribution over source k's center\n",
    "        '_k_mu_k'       : np.log(100./var_mu),              # diagional of log precision of distribution over source k's center\n",
    "        '_mu_lambda_k'  : pi['mu_lambda'],                  # mean of distribution over source k's width\n",
    "        '_k_lambda_k'   : 0.5                               # log precision of distribution over source k's width\n",
    "        }\n",
    "    \n",
    "    return alpha\n",
    "    \n",
    "def VI_Optimizer(Y, K, pi, D, lattice_shape):\n",
    "    \"\"\"\n",
    "    Variational Inference algorithm to learn parameters of our spatial factor analysis model.\n",
    "    \"\"\"\n",
    "    # We define some parameters\n",
    "    \n",
    "    N = Y.shape[0]                              # number of scans, D is space lattice lives in\n",
    "    V = Y.shape[1]                              # number of voxels (lattice_shape**D)\n",
    "    \n",
    "    t           = 0                             # number of iterations\n",
    "    maxStepSize = 1                             # max step size\n",
    "    eps         = 0.01                          # threshold\n",
    "    alpha       = initializeParameters(Y,pi)    # recognition model parameters\n",
    "    L           = len(alpha)                    # length of rec model params\n",
    "    eta         = np.ones(L) #np.zeros(L)       # vector of zeros (ill defined here)\n",
    "    _M          = 1                             # number of samples from q\n",
    "    gamma       = 0.1                           # parameter that controls learning rate decrease\n",
    "    \n",
    "    G           = np.zeros([_M,L])              # used for control variates\n",
    "    H           = np.zeros([_M,L])              # used for control variates\n",
    "    \n",
    "    delta       = np.zeros(L)\n",
    "    \n",
    "    converged   = False\n",
    "    \n",
    "    while not converged:\n",
    "        \n",
    "        print \"iter:\", t\n",
    "        \n",
    "        t  += 1\n",
    "        \n",
    "        a_0 = alpha\n",
    "        \n",
    "        q   = getSample(alpha, K, D, N) # faster to get 500 samples here or each time in loop\n",
    "        \n",
    "        for i, (key, value) in enumerate(alpha.items()):\n",
    "            print \"alpha_i:\", key\n",
    "            rho = gamma/eta[i] # learning rate <- eta[i] is zero here and so this is not properly defined here.\n",
    "            \n",
    "            for m in xrange(_M):\n",
    "\n",
    "                ln_q = compute_lnQ(alpha, q, K, D, N)\n",
    "                #print \"ln q:\", ln_q\n",
    "                \n",
    "                ln_p = evaluate_logDensity(Y, pi, q, K, D, N,V,lattice_shape)\n",
    "                #print \"ln p:\", ln_p[0]\n",
    "                \n",
    "                the_scores = compute_scoresQ_all(alpha, q, N, K, D)\n",
    "                #print \"the scores:\", the_scores\n",
    "                \n",
    "                import pdb\n",
    "                #pdb.set_trace()\n",
    "                \n",
    "                lnP_lnQ = (ln_p[0] - ln_q)\n",
    "                \n",
    "                G[m,:]  = np.dot(the_scores, lnP_lnQ)\n",
    "                \n",
    "                H[m,:]  = the_scores\n",
    "            \n",
    "            # Control Variate\n",
    "            beta = np.cov(G,H)/np.var(H)\n",
    "            \n",
    "            # Using trick to reduce variance\n",
    "            grad_cost = G[m] #- beta*H[m]\n",
    "            print \"the cost:\", grad_cost\n",
    "            \n",
    "            delta[i] = max(min(rho*grad_cost[i],maxStepSize),-maxStepSize)\n",
    "            \n",
    "            alpha[key] = a_0[key] + delta[i] # alpha a dict, must access differently\n",
    "            \n",
    "            eta[i]  += grad_cost[i]**2\n",
    "            \n",
    "            #print \"delta:\", key, value, delta[i]\n",
    "        if max(delta) < eps:\n",
    "            \n",
    "            converged = True\n",
    "    \n",
    "    \n",
    "    return alpha\n",
    "\n",
    "\n",
    "print \"Testing the VI optimizer\"\n",
    "\n",
    "myalpha = VI_Optimizer(y_bar, K, pi, D, lattice_shape)"
   ]
  }
 ],
 "metadata": {
  "anaconda-cloud": {},
  "kernelspec": {
   "display_name": "Python [Root]",
   "language": "python",
   "name": "Python [Root]"
  },
  "language_info": {
   "codemirror_mode": {
    "name": "ipython",
    "version": 2
   },
   "file_extension": ".py",
   "mimetype": "text/x-python",
   "name": "python",
   "nbconvert_exporter": "python",
   "pygments_lexer": "ipython2",
   "version": "2.7.12"
  }
 },
 "nbformat": 4,
 "nbformat_minor": 0
}
